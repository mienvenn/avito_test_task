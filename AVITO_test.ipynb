{
  "cells": [
    {
      "cell_type": "markdown",
      "metadata": {
        "id": "O8Ug2fchuolh"
      },
      "source": [
        "# Тестовое задание Авито\n",
        "\n",
        "## Курманаева Эвелина\n",
        "\n",
        "### Датасет\n",
        "\n",
        "Датасет, на котором обучалась модель, взят по этой ссылке: https://www.kaggle.com/datasets/vitaliy3000/avito-dataset?select=train.csv\n",
        "\n",
        "Использовался данный датасет, так как он похож по стилю, формулировкам и структуре предложений с датасетом `dataset_1937770_3.txt` . Его легко собрать, достаточно создать колонку `input`, просто удалив пробелы в правильном тексте.\n",
        "\n",
        "### Основная идея\n",
        "\n",
        "На вход модели подается текст без пробелов, и она классифицирует каждый токен как `0` (не вставлять пробел) или `1` (ставить пробел после токена), то есть выполняется задача последовательной бинарной классификации (sequence labeling). После этого с помощью функции `restore_spaces` восстанавливается текст с пробелами на местах, где модель предсказала `1`.\n",
        "\n",
        "### Токенизация\n",
        "\n",
        "Токенизация выполняется с помощью **Byte-Pair Encoding (BPE)**, который разбивает текст на подслова, а не на отдельные символы. Это позволяет сократить длину последовательности, ускорить обучение, экономить память и сохранить морфологическую информацию. В отличие от посимвольного токенизатора, BPE учитывает статистику сочетаний символов, что помогает модели лучше понимать морфологию слов и их границы. Этот вывод был сделан при сравнении BPE и char-encoding.\n",
        "\n",
        "Так как изначальная маска посимвольная, то она не подходит при использовании BPE. Поэтому с помощью функции `make_labels` формируются **новые маски**. Для каждого текста каждому токену присваивается метка из исходной маски. С помощью `offset_mapping` узнаём, какие символы входят в токен, и берём значение из маски для последнего символа токена (`0` — пробел не ставить, `1` — ставить).\n",
        "\n",
        "### Модель\n",
        "\n",
        "В работе используется [**модель XLM-RoBERTa**](https://huggingface.co/FacebookAI/xlm-roberta-base) — улучшенная версия BERT, обученная на большом многоязычном корпусе. Она обрабатывает последовательность токенов и учитывает связи между ними в обе стороны. Благодаря механизму self-attention модель может выделять наиболее значимые токены в контексте всей фразы и улавливать синтаксические закономерности.\n",
        "\n",
        "### Почему этот метод решения лучше эвристики\n",
        "\n",
        "Было решено, что для задачи восстановления пробелов **эвристика плохо работает**, потому что входные данные — не всегда чистый текст: пользователь может опечататься, писать в разном стиле (полностью заглавными буквами, чередуя заглавные с прописными и т.д.). Эвристики с помощью словаря не могут учесть все варианты, потому что список слов не может быть полным. Кроме того, решение о том, нужен ли пробел, зависит от смысла, а не только от формы слова.\n",
        "\n",
        "### Проблема дисбаланса классов\n",
        "\n",
        "При решении задачи наблюдается сильный **дисбаланс классов**: меток `0` больше, чем меток `1`. Если обучать модель без учета этого дисбаланса, она будет склоняться к тому, чтобы всегда предсказывать `0`, что приведет к низкому качеству восстановления текста. Чтобы компенсировать дисбаланс, я использовала взвешенную функцию потерь: веса для каждого класса вычислялись как обратные их частотам.\n",
        "\n",
        "### Обучение модели\n",
        "\n",
        "Для обучения модели используется **пакетная обработка данных**, при которой длины последовательностей внутри батча выравниваются с помощью функции `collate_fn`. Для каждой выборки определяется максимальная длина последовательности, и все остальные последовательности дополняются до этой длины. `labels` выравниваются значением `-100`, чтобы паддинги не влияли на обучение при вычислении функции потерь.\n",
        "\n",
        "### Мощности для обучения\n",
        "\n",
        "Обучение и инференс выполнялись на **MacBook M1 Pro с поддержкой MPS**\n"
      ]
    },
    {
      "cell_type": "code",
      "execution_count": null,
      "metadata": {
        "id": "bldJpYtfH5lT",
        "outputId": "a658ef0c-c1ef-4610-ceb9-ac8966be02f1"
      },
      "outputs": [
        {
          "data": {
            "text/plain": [
              "'mps'"
            ]
          },
          "execution_count": 1,
          "metadata": {},
          "output_type": "execute_result"
        }
      ],
      "source": [
        "import pandas as pd\n",
        "from sklearn.model_selection import train_test_split\n",
        "from tqdm import tqdm\n",
        "import matplotlib.pyplot as plt\n",
        "import torch\n",
        "from torch.utils.data import Dataset, DataLoader\n",
        "from transformers import AutoTokenizer, AutoModelForTokenClassification\n",
        "from torch.optim import AdamW\n",
        "from sklearn.metrics import f1_score\n",
        "\n",
        "device = (\n",
        "    \"mps\"\n",
        "    if torch.backends.mps.is_available()\n",
        "    else (\"cuda\" if torch.cuda.is_available() else \"cpu\")\n",
        ")\n",
        "\n",
        "device"
      ]
    },
    {
      "cell_type": "markdown",
      "metadata": {
        "id": "eYzqStuFu8-X"
      },
      "source": [
        "# Обработка датасета"
      ]
    },
    {
      "cell_type": "code",
      "execution_count": null,
      "metadata": {
        "colab": {
          "base_uri": "https://localhost:8080/",
          "height": 206
        },
        "id": "X65IeiJ9I1UZ",
        "outputId": "d2157107-1ee6-4fa1-d906-525318146839"
      },
      "outputs": [
        {
          "data": {
            "text/html": [
              "<div>\n",
              "<style scoped>\n",
              "    .dataframe tbody tr th:only-of-type {\n",
              "        vertical-align: middle;\n",
              "    }\n",
              "\n",
              "    .dataframe tbody tr th {\n",
              "        vertical-align: top;\n",
              "    }\n",
              "\n",
              "    .dataframe thead th {\n",
              "        text-align: right;\n",
              "    }\n",
              "</style>\n",
              "<table border=\"1\" class=\"dataframe\">\n",
              "  <thead>\n",
              "    <tr style=\"text-align: right;\">\n",
              "      <th></th>\n",
              "      <th>title</th>\n",
              "    </tr>\n",
              "  </thead>\n",
              "  <tbody>\n",
              "    <tr>\n",
              "      <th>0</th>\n",
              "      <td>Картина</td>\n",
              "    </tr>\n",
              "    <tr>\n",
              "      <th>1</th>\n",
              "      <td>Стулья из прессованной кожи</td>\n",
              "    </tr>\n",
              "    <tr>\n",
              "      <th>2</th>\n",
              "      <td>Домашняя мини баня</td>\n",
              "    </tr>\n",
              "    <tr>\n",
              "      <th>3</th>\n",
              "      <td>Эксклюзивная коллекция книг \"Трансаэро\" + подарок</td>\n",
              "    </tr>\n",
              "    <tr>\n",
              "      <th>4</th>\n",
              "      <td>Ноутбук aser</td>\n",
              "    </tr>\n",
              "    <tr>\n",
              "      <th>...</th>\n",
              "      <td>...</td>\n",
              "    </tr>\n",
              "    <tr>\n",
              "      <th>489512</th>\n",
              "      <td>Music MAN JP6 piezo</td>\n",
              "    </tr>\n",
              "    <tr>\n",
              "      <th>489513</th>\n",
              "      <td>Резолюции и постановления пленумов цк вкпб 1933г</td>\n",
              "    </tr>\n",
              "    <tr>\n",
              "      <th>489514</th>\n",
              "      <td>Дверь входная металлическая Китайская</td>\n",
              "    </tr>\n",
              "    <tr>\n",
              "      <th>489515</th>\n",
              "      <td>Чехол на samsung S6 duos</td>\n",
              "    </tr>\n",
              "    <tr>\n",
              "      <th>489516</th>\n",
              "      <td>Продаю бас-гитару и басовый усилитель</td>\n",
              "    </tr>\n",
              "  </tbody>\n",
              "</table>\n",
              "<p>489517 rows × 1 columns</p>\n",
              "</div>"
            ],
            "text/plain": [
              "                                                    title\n",
              "0                                                 Картина\n",
              "1                             Стулья из прессованной кожи\n",
              "2                                      Домашняя мини баня\n",
              "3       Эксклюзивная коллекция книг \"Трансаэро\" + подарок\n",
              "4                                            Ноутбук aser\n",
              "...                                                   ...\n",
              "489512                                Music MAN JP6 piezo\n",
              "489513   Резолюции и постановления пленумов цк вкпб 1933г\n",
              "489514              Дверь входная металлическая Китайская\n",
              "489515                           Чехол на samsung S6 duos\n",
              "489516              Продаю бас-гитару и басовый усилитель\n",
              "\n",
              "[489517 rows x 1 columns]"
            ]
          },
          "execution_count": 2,
          "metadata": {},
          "output_type": "execute_result"
        }
      ],
      "source": [
        "data = pd.read_csv(\"train.csv\")[[\"title\"]]\n",
        "\n",
        "data"
      ]
    },
    {
      "cell_type": "code",
      "execution_count": null,
      "metadata": {
        "id": "KouPMAc-W666"
      },
      "outputs": [],
      "source": [
        "data = data.drop_duplicates()"
      ]
    },
    {
      "cell_type": "code",
      "execution_count": null,
      "metadata": {
        "colab": {
          "base_uri": "https://localhost:8080/"
        },
        "id": "n8G4XVNGXcow",
        "outputId": "9457e150-319d-4199-9567-50cbdb342fd0"
      },
      "outputs": [
        {
          "data": {
            "text/plain": [
              "(365152, 1)"
            ]
          },
          "execution_count": 4,
          "metadata": {},
          "output_type": "execute_result"
        }
      ],
      "source": [
        "data.shape"
      ]
    },
    {
      "cell_type": "code",
      "execution_count": null,
      "metadata": {
        "id": "cPMcAaF1KHmX"
      },
      "outputs": [],
      "source": [
        "data[\"input\"] = data[\"title\"].str.replace(\" \", \"\")"
      ]
    },
    {
      "cell_type": "code",
      "execution_count": null,
      "metadata": {
        "colab": {
          "base_uri": "https://localhost:8080/",
          "height": 206
        },
        "id": "aT2N9rEUKeSX",
        "outputId": "79d6c5ac-6427-4361-9d95-061910c03a5e"
      },
      "outputs": [
        {
          "data": {
            "text/html": [
              "<div>\n",
              "<style scoped>\n",
              "    .dataframe tbody tr th:only-of-type {\n",
              "        vertical-align: middle;\n",
              "    }\n",
              "\n",
              "    .dataframe tbody tr th {\n",
              "        vertical-align: top;\n",
              "    }\n",
              "\n",
              "    .dataframe thead th {\n",
              "        text-align: right;\n",
              "    }\n",
              "</style>\n",
              "<table border=\"1\" class=\"dataframe\">\n",
              "  <thead>\n",
              "    <tr style=\"text-align: right;\">\n",
              "      <th></th>\n",
              "      <th>output</th>\n",
              "      <th>input</th>\n",
              "    </tr>\n",
              "  </thead>\n",
              "  <tbody>\n",
              "    <tr>\n",
              "      <th>0</th>\n",
              "      <td>Картина</td>\n",
              "      <td>Картина</td>\n",
              "    </tr>\n",
              "    <tr>\n",
              "      <th>1</th>\n",
              "      <td>Стулья из прессованной кожи</td>\n",
              "      <td>Стульяизпрессованнойкожи</td>\n",
              "    </tr>\n",
              "    <tr>\n",
              "      <th>2</th>\n",
              "      <td>Домашняя мини баня</td>\n",
              "      <td>Домашняяминибаня</td>\n",
              "    </tr>\n",
              "    <tr>\n",
              "      <th>3</th>\n",
              "      <td>Эксклюзивная коллекция книг \"Трансаэро\" + подарок</td>\n",
              "      <td>Эксклюзивнаяколлекциякниг\"Трансаэро\"+подарок</td>\n",
              "    </tr>\n",
              "    <tr>\n",
              "      <th>4</th>\n",
              "      <td>Ноутбук aser</td>\n",
              "      <td>Ноутбукaser</td>\n",
              "    </tr>\n",
              "  </tbody>\n",
              "</table>\n",
              "</div>"
            ],
            "text/plain": [
              "                                              output  \\\n",
              "0                                            Картина   \n",
              "1                        Стулья из прессованной кожи   \n",
              "2                                 Домашняя мини баня   \n",
              "3  Эксклюзивная коллекция книг \"Трансаэро\" + подарок   \n",
              "4                                       Ноутбук aser   \n",
              "\n",
              "                                          input  \n",
              "0                                       Картина  \n",
              "1                      Стульяизпрессованнойкожи  \n",
              "2                              Домашняяминибаня  \n",
              "3  Эксклюзивнаяколлекциякниг\"Трансаэро\"+подарок  \n",
              "4                                   Ноутбукaser  "
            ]
          },
          "execution_count": 6,
          "metadata": {},
          "output_type": "execute_result"
        }
      ],
      "source": [
        "data.columns = [\"output\", \"input\"]\n",
        "data.head()"
      ]
    },
    {
      "cell_type": "markdown",
      "metadata": {
        "id": "YFbqxKeuvSXR"
      },
      "source": [
        "### Создание целевой переменной"
      ]
    },
    {
      "cell_type": "markdown",
      "metadata": {
        "id": "gu740O6Ki3g8"
      },
      "source": [
        "Создадим маску, в которой 0 - это символ (буква/цифра/и т.д.), а 1 - значит нужно вставить пробел после текущего символа"
      ]
    },
    {
      "cell_type": "code",
      "execution_count": null,
      "metadata": {
        "id": "q_arF3dqib-1"
      },
      "outputs": [],
      "source": [
        "def make_mask(text):\n",
        "    mask = []\n",
        "    for i, char in enumerate(text):\n",
        "        if char == \" \":\n",
        "            continue\n",
        "        if i + 1 < len(text) and text[i + 1] == \" \":\n",
        "            mask.append(1)\n",
        "        else:\n",
        "            mask.append(0)\n",
        "\n",
        "    return mask"
      ]
    },
    {
      "cell_type": "code",
      "execution_count": null,
      "metadata": {
        "id": "IxzEZ3T9LM50"
      },
      "outputs": [],
      "source": [
        "data[\"mask\"] = data[\"output\"].apply(make_mask)"
      ]
    },
    {
      "cell_type": "code",
      "execution_count": null,
      "metadata": {
        "colab": {
          "base_uri": "https://localhost:8080/",
          "height": 423
        },
        "id": "LCkxVS1MMUHg",
        "outputId": "d42cf56f-f241-40de-fd21-260a9450887f"
      },
      "outputs": [
        {
          "data": {
            "text/html": [
              "<div>\n",
              "<style scoped>\n",
              "    .dataframe tbody tr th:only-of-type {\n",
              "        vertical-align: middle;\n",
              "    }\n",
              "\n",
              "    .dataframe tbody tr th {\n",
              "        vertical-align: top;\n",
              "    }\n",
              "\n",
              "    .dataframe thead th {\n",
              "        text-align: right;\n",
              "    }\n",
              "</style>\n",
              "<table border=\"1\" class=\"dataframe\">\n",
              "  <thead>\n",
              "    <tr style=\"text-align: right;\">\n",
              "      <th></th>\n",
              "      <th>output</th>\n",
              "      <th>input</th>\n",
              "      <th>mask</th>\n",
              "    </tr>\n",
              "  </thead>\n",
              "  <tbody>\n",
              "    <tr>\n",
              "      <th>0</th>\n",
              "      <td>Картина</td>\n",
              "      <td>Картина</td>\n",
              "      <td>[0, 0, 0, 0, 0, 0, 0]</td>\n",
              "    </tr>\n",
              "    <tr>\n",
              "      <th>1</th>\n",
              "      <td>Стулья из прессованной кожи</td>\n",
              "      <td>Стульяизпрессованнойкожи</td>\n",
              "      <td>[0, 0, 0, 0, 0, 1, 0, 1, 0, 0, 0, 0, 0, 0, 0, ...</td>\n",
              "    </tr>\n",
              "    <tr>\n",
              "      <th>2</th>\n",
              "      <td>Домашняя мини баня</td>\n",
              "      <td>Домашняяминибаня</td>\n",
              "      <td>[0, 0, 0, 0, 0, 0, 0, 1, 0, 0, 0, 1, 0, 0, 0, 0]</td>\n",
              "    </tr>\n",
              "    <tr>\n",
              "      <th>3</th>\n",
              "      <td>Эксклюзивная коллекция книг \"Трансаэро\" + подарок</td>\n",
              "      <td>Эксклюзивнаяколлекциякниг\"Трансаэро\"+подарок</td>\n",
              "      <td>[0, 0, 0, 0, 0, 0, 0, 0, 0, 0, 0, 1, 0, 0, 0, ...</td>\n",
              "    </tr>\n",
              "    <tr>\n",
              "      <th>4</th>\n",
              "      <td>Ноутбук aser</td>\n",
              "      <td>Ноутбукaser</td>\n",
              "      <td>[0, 0, 0, 0, 0, 0, 1, 0, 0, 0, 0]</td>\n",
              "    </tr>\n",
              "    <tr>\n",
              "      <th>...</th>\n",
              "      <td>...</td>\n",
              "      <td>...</td>\n",
              "      <td>...</td>\n",
              "    </tr>\n",
              "    <tr>\n",
              "      <th>489512</th>\n",
              "      <td>Music MAN JP6 piezo</td>\n",
              "      <td>MusicMANJP6piezo</td>\n",
              "      <td>[0, 0, 0, 0, 1, 0, 0, 1, 0, 0, 1, 0, 0, 0, 0, 0]</td>\n",
              "    </tr>\n",
              "    <tr>\n",
              "      <th>489513</th>\n",
              "      <td>Резолюции и постановления пленумов цк вкпб 1933г</td>\n",
              "      <td>Резолюцииипостановленияпленумовцквкпб1933г</td>\n",
              "      <td>[0, 0, 0, 0, 0, 0, 0, 0, 1, 1, 0, 0, 0, 0, 0, ...</td>\n",
              "    </tr>\n",
              "    <tr>\n",
              "      <th>489514</th>\n",
              "      <td>Дверь входная металлическая Китайская</td>\n",
              "      <td>ДверьвходнаяметаллическаяКитайская</td>\n",
              "      <td>[0, 0, 0, 0, 1, 0, 0, 0, 0, 0, 0, 1, 0, 0, 0, ...</td>\n",
              "    </tr>\n",
              "    <tr>\n",
              "      <th>489515</th>\n",
              "      <td>Чехол на samsung S6 duos</td>\n",
              "      <td>ЧехолнаsamsungS6duos</td>\n",
              "      <td>[0, 0, 0, 0, 1, 0, 1, 0, 0, 0, 0, 0, 0, 1, 0, ...</td>\n",
              "    </tr>\n",
              "    <tr>\n",
              "      <th>489516</th>\n",
              "      <td>Продаю бас-гитару и басовый усилитель</td>\n",
              "      <td>Продаюбас-гитаруибасовыйусилитель</td>\n",
              "      <td>[0, 0, 0, 0, 0, 1, 0, 0, 0, 0, 0, 0, 0, 0, 0, ...</td>\n",
              "    </tr>\n",
              "  </tbody>\n",
              "</table>\n",
              "<p>365152 rows × 3 columns</p>\n",
              "</div>"
            ],
            "text/plain": [
              "                                                   output  \\\n",
              "0                                                 Картина   \n",
              "1                             Стулья из прессованной кожи   \n",
              "2                                      Домашняя мини баня   \n",
              "3       Эксклюзивная коллекция книг \"Трансаэро\" + подарок   \n",
              "4                                            Ноутбук aser   \n",
              "...                                                   ...   \n",
              "489512                                Music MAN JP6 piezo   \n",
              "489513   Резолюции и постановления пленумов цк вкпб 1933г   \n",
              "489514              Дверь входная металлическая Китайская   \n",
              "489515                           Чехол на samsung S6 duos   \n",
              "489516              Продаю бас-гитару и басовый усилитель   \n",
              "\n",
              "                                               input  \\\n",
              "0                                            Картина   \n",
              "1                           Стульяизпрессованнойкожи   \n",
              "2                                   Домашняяминибаня   \n",
              "3       Эксклюзивнаяколлекциякниг\"Трансаэро\"+подарок   \n",
              "4                                        Ноутбукaser   \n",
              "...                                              ...   \n",
              "489512                              MusicMANJP6piezo   \n",
              "489513    Резолюцииипостановленияпленумовцквкпб1933г   \n",
              "489514            ДверьвходнаяметаллическаяКитайская   \n",
              "489515                          ЧехолнаsamsungS6duos   \n",
              "489516             Продаюбас-гитаруибасовыйусилитель   \n",
              "\n",
              "                                                     mask  \n",
              "0                                   [0, 0, 0, 0, 0, 0, 0]  \n",
              "1       [0, 0, 0, 0, 0, 1, 0, 1, 0, 0, 0, 0, 0, 0, 0, ...  \n",
              "2        [0, 0, 0, 0, 0, 0, 0, 1, 0, 0, 0, 1, 0, 0, 0, 0]  \n",
              "3       [0, 0, 0, 0, 0, 0, 0, 0, 0, 0, 0, 1, 0, 0, 0, ...  \n",
              "4                       [0, 0, 0, 0, 0, 0, 1, 0, 0, 0, 0]  \n",
              "...                                                   ...  \n",
              "489512   [0, 0, 0, 0, 1, 0, 0, 1, 0, 0, 1, 0, 0, 0, 0, 0]  \n",
              "489513  [0, 0, 0, 0, 0, 0, 0, 0, 1, 1, 0, 0, 0, 0, 0, ...  \n",
              "489514  [0, 0, 0, 0, 1, 0, 0, 0, 0, 0, 0, 1, 0, 0, 0, ...  \n",
              "489515  [0, 0, 0, 0, 1, 0, 1, 0, 0, 0, 0, 0, 0, 1, 0, ...  \n",
              "489516  [0, 0, 0, 0, 0, 1, 0, 0, 0, 0, 0, 0, 0, 0, 0, ...  \n",
              "\n",
              "[365152 rows x 3 columns]"
            ]
          },
          "execution_count": 9,
          "metadata": {},
          "output_type": "execute_result"
        }
      ],
      "source": [
        "data"
      ]
    },
    {
      "cell_type": "markdown",
      "metadata": {
        "id": "NxD7ApawvD95"
      },
      "source": [
        "### Разделение на train/test"
      ]
    },
    {
      "cell_type": "code",
      "execution_count": null,
      "metadata": {
        "id": "g5IhGVNMY6La"
      },
      "outputs": [],
      "source": [
        "train_data, test_data = train_test_split(\n",
        "    data, test_size=0.2, random_state=42, shuffle=True\n",
        ")"
      ]
    },
    {
      "cell_type": "markdown",
      "metadata": {
        "id": "piK8C_SI9aBt"
      },
      "source": [
        "# Токенизация"
      ]
    },
    {
      "cell_type": "markdown",
      "metadata": {
        "id": "Q_d_Y2TnwJ8e"
      },
      "source": [
        "Загружаем предобученные токенизатор RoBERTa."
      ]
    },
    {
      "cell_type": "code",
      "execution_count": null,
      "metadata": {
        "colab": {
          "base_uri": "https://localhost:8080/"
        },
        "id": "Dg8w8RpJ_-WZ",
        "outputId": "2da0f0cc-0277-4977-ca28-7a412e20d0db"
      },
      "outputs": [
        {
          "name": "stderr",
          "output_type": "stream",
          "text": [
            "Some weights of XLMRobertaForTokenClassification were not initialized from the model checkpoint at xlm-roberta-base and are newly initialized: ['classifier.bias', 'classifier.weight']\n",
            "You should probably TRAIN this model on a down-stream task to be able to use it for predictions and inference.\n"
          ]
        }
      ],
      "source": [
        "model_name = \"xlm-roberta-base\"\n",
        "\n",
        "tokenizer = AutoTokenizer.from_pretrained(model_name)\n",
        "model = AutoModelForTokenClassification.from_pretrained(model_name, num_labels=2)\n",
        "\n",
        "model.to(device);"
      ]
    },
    {
      "cell_type": "markdown",
      "metadata": {
        "id": "DhUZlL4bn_Nd"
      },
      "source": [
        "Создаем labels, соответствующие размеру токенизированных предложений"
      ]
    },
    {
      "cell_type": "code",
      "execution_count": null,
      "metadata": {
        "id": "7Jgy1sSBACVS"
      },
      "outputs": [],
      "source": [
        "def make_labels(text, mask):\n",
        "    encoding = tokenizer(text, add_special_tokens=False, return_offsets_mapping=True)\n",
        "\n",
        "    token_labels = []\n",
        "    for start, end in encoding.offset_mapping:\n",
        "        if end - 1 < len(mask):\n",
        "            token_labels.append(mask[end - 1])\n",
        "        else:\n",
        "            token_labels.append(0)\n",
        "\n",
        "    encoding[\"labels\"] = token_labels\n",
        "    return encoding"
      ]
    },
    {
      "cell_type": "code",
      "execution_count": null,
      "metadata": {
        "id": "SxLz-IZHAHZC"
      },
      "outputs": [],
      "source": [
        "class SpaceDatasetBPE(Dataset):\n",
        "    def __init__(self, texts, masks):\n",
        "        self.encodings = [make_labels(t, m) for t, m in zip(texts, masks)]\n",
        "\n",
        "    def __len__(self):\n",
        "        return len(self.encodings)\n",
        "\n",
        "    def __getitem__(self, idx):\n",
        "        item = {\n",
        "            key: torch.tensor(val)\n",
        "            for key, val in self.encodings[idx].items()\n",
        "            if key in [\"input_ids\", \"attention_mask\", \"labels\"]\n",
        "        }\n",
        "        return item"
      ]
    },
    {
      "cell_type": "code",
      "execution_count": null,
      "metadata": {
        "id": "2rZoP8EiALCv"
      },
      "outputs": [],
      "source": [
        "def collate_fn(batch):\n",
        "    max_len = max([item[\"input_ids\"].size(0) for item in batch])\n",
        "\n",
        "    input_ids = []\n",
        "    attention_mask = []\n",
        "    labels = []\n",
        "\n",
        "    for item in batch:\n",
        "        seq_len = item[\"input_ids\"].size(0)\n",
        "\n",
        "        padded_input_ids = torch.cat(\n",
        "            [item[\"input_ids\"], torch.zeros(max_len - seq_len, dtype=torch.long)]\n",
        "        )\n",
        "        input_ids.append(padded_input_ids)\n",
        "\n",
        "        padded_attention_mask = torch.cat(\n",
        "            [item[\"attention_mask\"], torch.zeros(max_len - seq_len, dtype=torch.long)]\n",
        "        )\n",
        "        attention_mask.append(padded_attention_mask)\n",
        "\n",
        "        padded_labels = torch.cat(\n",
        "            [item[\"labels\"], torch.full((max_len - seq_len,), -100, dtype=torch.long)]\n",
        "        )\n",
        "        labels.append(padded_labels)\n",
        "\n",
        "    return {\n",
        "        \"input_ids\": torch.stack(input_ids),\n",
        "        \"attention_mask\": torch.stack(attention_mask),\n",
        "        \"labels\": torch.stack(labels),\n",
        "    }\n"
      ]
    },
    {
      "cell_type": "markdown",
      "metadata": {
        "id": "p75W5C_Px_Pz"
      },
      "source": [
        "Формируем тренировычный и тестовый dataloader. В качестве оптимизатора градиентного спуска берем AdamW"
      ]
    },
    {
      "cell_type": "code",
      "execution_count": null,
      "metadata": {
        "id": "IQm5PkwQALr8"
      },
      "outputs": [],
      "source": [
        "train_dataset = SpaceDatasetBPE(\n",
        "    train_data[\"input\"].tolist(), train_data[\"mask\"].tolist()\n",
        ")\n",
        "\n",
        "test_dataset = SpaceDatasetBPE(test_data[\"input\"].tolist(), test_data[\"mask\"].tolist())\n",
        "\n",
        "\n",
        "train_loader = DataLoader(\n",
        "    train_dataset, batch_size=128, shuffle=True, collate_fn=collate_fn\n",
        ")\n",
        "\n",
        "test_loader = DataLoader(\n",
        "    test_dataset, batch_size=128, shuffle=False, collate_fn=collate_fn\n",
        ")"
      ]
    },
    {
      "cell_type": "markdown",
      "metadata": {
        "id": "ka309aSVyfOg"
      },
      "source": [
        "Так как в данных присутствует дисбаланс, задаём веса для классов в CrossEntropyLoss, чтобы ошибки на редком классе оказывали больший вклад в функцию потерь"
      ]
    },
    {
      "cell_type": "code",
      "execution_count": null,
      "metadata": {
        "id": "dwUgUnTI1B8l"
      },
      "outputs": [],
      "source": [
        "all_masks = []\n",
        "\n",
        "for lst in train_data[\"mask\"].tolist():\n",
        "    all_masks.extend(lst)"
      ]
    },
    {
      "cell_type": "code",
      "execution_count": null,
      "metadata": {
        "id": "6l5SnsCI1B8l"
      },
      "outputs": [],
      "source": [
        "num_0 = all_masks.count(0)\n",
        "num_1 = all_masks.count(1)\n",
        "\n",
        "weight_0 = num_1 / len(all_masks)\n",
        "weight_1 = num_0 / len(all_masks)\n",
        "\n",
        "weights = torch.tensor([weight_0, weight_1], dtype=torch.float).to(device)\n",
        "criterion = torch.nn.CrossEntropyLoss(weight=weights)\n",
        "optimizer = AdamW(model.parameters(), lr=5e-5)"
      ]
    },
    {
      "cell_type": "markdown",
      "metadata": {
        "id": "Jkh63l79RXAS"
      },
      "source": [
        "### Обучение модели"
      ]
    },
    {
      "cell_type": "code",
      "execution_count": null,
      "metadata": {
        "id": "dFMhBs021B8l"
      },
      "outputs": [],
      "source": [
        "train_losses = []"
      ]
    },
    {
      "cell_type": "code",
      "execution_count": null,
      "metadata": {
        "colab": {
          "base_uri": "https://localhost:8080/"
        },
        "id": "NRmoAWX7AP86",
        "outputId": "45df2fa8-daa6-4c8c-e34c-c431a48dc5ef"
      },
      "outputs": [
        {
          "name": "stderr",
          "output_type": "stream",
          "text": [
            "Loss: 0.04950: 100%|██████████| 2283/2283 [25:19<00:00,  1.50it/s]\n"
          ]
        },
        {
          "name": "stdout",
          "output_type": "stream",
          "text": [
            "Epoch 1 | Train Loss: 0.0525 |  Test Loss: 0.0616\n"
          ]
        },
        {
          "name": "stderr",
          "output_type": "stream",
          "text": [
            "Loss: 0.05209: 100%|██████████| 2283/2283 [25:11<00:00,  1.51it/s]\n"
          ]
        },
        {
          "name": "stdout",
          "output_type": "stream",
          "text": [
            "Epoch 2 | Train Loss: 0.0482 |  Test Loss: 0.0599\n"
          ]
        }
      ],
      "source": [
        "epochs = 2\n",
        "\n",
        "for epoch in range(epochs):\n",
        "    model.train()\n",
        "    total_loss = 0\n",
        "    all_preds = []\n",
        "    all_labels = []\n",
        "\n",
        "    for batch in (bar := tqdm(train_loader)):\n",
        "        input_ids = batch[\"input_ids\"].to(device)\n",
        "        attention_mask = batch[\"attention_mask\"].to(device)\n",
        "        labels = batch[\"labels\"].to(device)\n",
        "\n",
        "        optimizer.zero_grad()\n",
        "        outputs = model(input_ids=input_ids, attention_mask=attention_mask)\n",
        "        logits = outputs.logits\n",
        "\n",
        "        loss = criterion(logits.view(-1, 2), labels.view(-1))\n",
        "        loss.backward()\n",
        "        optimizer.step()\n",
        "\n",
        "        total_loss += loss.item()\n",
        "\n",
        "        preds = torch.argmax(logits, dim=-1)\n",
        "        all_preds.extend(preds.view(-1).cpu().numpy())\n",
        "        all_labels.extend(labels.view(-1).cpu().numpy())\n",
        "\n",
        "        train_losses.append(loss.item())\n",
        "        bar.set_description(\n",
        "            f\"Loss: {sum(train_losses[-10:]) / len(train_losses[-10:]):.5f}\"\n",
        "        )\n",
        "\n",
        "    train_loss_epoch = total_loss / len(train_loader)\n",
        "\n",
        "    model.eval()\n",
        "    test_loss = 0.0\n",
        "    all_preds_test = []\n",
        "    all_labels_test = []\n",
        "\n",
        "    with torch.no_grad():\n",
        "        for batch in test_loader:\n",
        "            input_ids = batch[\"input_ids\"].to(device)\n",
        "            labels = batch[\"labels\"].to(device)\n",
        "\n",
        "            outputs = model(\n",
        "                input_ids=input_ids, attention_mask=batch[\"attention_mask\"].to(device)\n",
        "            )\n",
        "            logits = outputs.logits\n",
        "\n",
        "            loss = criterion(logits.view(-1, 2), labels.view(-1))\n",
        "            test_loss += loss.item()\n",
        "\n",
        "            preds = torch.argmax(logits, dim=-1)\n",
        "            all_preds_test.extend(preds.view(-1).cpu().numpy())\n",
        "            all_labels_test.extend(labels.view(-1).cpu().numpy())\n",
        "\n",
        "    test_loss_epoch = test_loss / len(test_loader)\n",
        "\n",
        "    print(\n",
        "        f\"Epoch {epoch + 1} | Train Loss: {train_loss_epoch:.4f} |  Test Loss: {test_loss_epoch:.4f}\"\n",
        "    )\n"
      ]
    },
    {
      "cell_type": "markdown",
      "metadata": {
        "id": "zoKGvkiWiNtl"
      },
      "source": [
        "В итоге, модель обучалась на 5 эпохах:"
      ]
    },
    {
      "cell_type": "markdown",
      "metadata": {
        "id": "wjWnPOZq1B8m",
        "vscode": {
          "languageId": "raw"
        }
      },
      "source": [
        "Loss: 0.07847: 100%|██████████| 2283/2283 [25:14<00:00,  1.51it/s]\n",
        "\n",
        "Epoch 1 | Train Loss: 0.1013 |  Test Loss: 0.0674\n",
        "\n",
        "Loss: 0.05652: 100%|██████████| 2283/2283 [25:15<00:00,  1.51it/s]\n",
        "\n",
        "Epoch 2 | Train Loss: 0.0662 |  Test Loss: 0.0609\n",
        "\n",
        "Loss: 0.05259: 100%|██████████| 2283/2283 [25:11<00:00,  1.51it/s]\n",
        "\n",
        "Epoch 3 | Train Loss: 0.0583 |  Test Loss: 0.0615\n",
        "\n",
        "Loss: 0.04950: 100%|██████████| 2283/2283 [25:19<00:00,  1.50it/s]\n",
        "\n",
        "Epoch 4 | Train Loss: 0.0525 |  Test Loss: 0.0616\n",
        "\n",
        "Loss: 0.05209: 100%|██████████| 2283/2283 [25:11<00:00,  1.51it/s]\n",
        "\n",
        "Epoch 5 | Train Loss: 0.0482 |  Test Loss: 0.0599"
      ]
    },
    {
      "cell_type": "code",
      "execution_count": null,
      "metadata": {
        "id": "u8e3uzEVjBVm"
      },
      "outputs": [],
      "source": [
        "learning_process = pd.DataFrame(\n",
        "    {\n",
        "        \"train_losses\": train_losses,\n",
        "    }\n",
        ")\n",
        "\n",
        "learning_process.to_csv(\"learning_process.csv\", index=False)"
      ]
    },
    {
      "cell_type": "code",
      "execution_count": null,
      "metadata": {
        "id": "dHQ9wSqRNmYM"
      },
      "outputs": [],
      "source": [
        "torch.save(model.state_dict(), \"AVITO_space_model.pth\")"
      ]
    },
    {
      "cell_type": "markdown",
      "metadata": {
        "id": "-CmB_PVAiUKs"
      },
      "source": [
        "График обучения:"
      ]
    },
    {
      "cell_type": "code",
      "execution_count": null,
      "metadata": {
        "id": "Gz1s3HlYiXoa",
        "outputId": "edeb5e99-60b1-4c15-f69d-15376ef57d27"
      },
      "outputs": [
        {
          "data": {
            "image/png": "[encoded data removed]",
            "text/plain": [
              "<Figure size 1200x500 with 1 Axes>"
            ]
          },
          "metadata": {},
          "output_type": "display_data"
        }
      ],
      "source": [
        "plt.figure(figsize=(12, 5))\n",
        "\n",
        "plt.plot(train_losses, label=\"Train Loss\", color=\"blue\")\n",
        "\n",
        "plt.title(\"Learning process\")\n",
        "plt.xlabel(\"Step\")\n",
        "\n",
        "plt.grid()\n",
        "plt.legend()\n",
        "plt.tight_layout()\n",
        "\n",
        "plt.show()"
      ]
    },
    {
      "cell_type": "markdown",
      "metadata": {
        "id": "rJSIEKkRosel"
      },
      "source": [
        "### Оценка качества модели"
      ]
    },
    {
      "cell_type": "code",
      "execution_count": null,
      "metadata": {
        "colab": {
          "base_uri": "https://localhost:8080/"
        },
        "id": "tVYScPidAbk6",
        "outputId": "69cc9965-faaa-4bf9-da38-3661fc6790db"
      },
      "outputs": [
        {
          "name": "stderr",
          "output_type": "stream",
          "text": [
            "100%|██████████| 571/571 [01:31<00:00,  6.24it/s]\n"
          ]
        },
        {
          "name": "stdout",
          "output_type": "stream",
          "text": [
            "Test F1: 0.9502\n"
          ]
        }
      ],
      "source": [
        "model.eval()\n",
        "preds, trues = [], []\n",
        "\n",
        "with torch.no_grad():\n",
        "    for batch in tqdm(test_loader):\n",
        "        input_ids = batch[\"input_ids\"].to(device)\n",
        "        labels = batch[\"labels\"].to(device)\n",
        "\n",
        "        outputs = model(\n",
        "            input_ids=input_ids, attention_mask=batch[\"attention_mask\"].to(device)\n",
        "        )\n",
        "        logits = outputs.logits\n",
        "        predictions = torch.argmax(logits, dim=-1)\n",
        "\n",
        "        valid_mask = labels != -100\n",
        "\n",
        "        preds.extend(predictions[valid_mask].cpu().numpy().flatten())\n",
        "        trues.extend(labels[valid_mask].cpu().numpy().flatten())\n",
        "\n",
        "f1 = f1_score(trues, preds)\n",
        "print(f\"Test F1: {f1:.4f}\")\n"
      ]
    },
    {
      "cell_type": "markdown",
      "metadata": {
        "id": "K49INOkgoyZ8"
      },
      "source": [
        "Функция для вставки пробелов в исходный текст:"
      ]
    },
    {
      "cell_type": "code",
      "execution_count": null,
      "metadata": {
        "colab": {
          "base_uri": "https://localhost:8080/"
        },
        "id": "QfCz5B0wA-B2",
        "outputId": "06e00a44-b0fa-4904-efe7-ef9aaf7cf9a9"
      },
      "outputs": [
        {
          "name": "stdout",
          "output_type": "stream",
          "text": [
            "INPUT: этопроверкакакбудетработатьмодель\n",
            "OUTPUT: это проверка как будет работать модель\n"
          ]
        }
      ],
      "source": [
        "def restore_spaces(text):\n",
        "    encoding = tokenizer(\n",
        "        text, return_tensors=\"pt\", add_special_tokens=False, return_offsets_mapping=True\n",
        "    )\n",
        "    input_ids = encoding[\"input_ids\"].to(device)\n",
        "    attention_mask = encoding[\"attention_mask\"].to(device)\n",
        "\n",
        "    model.eval()\n",
        "    with torch.no_grad():\n",
        "        logits = model(input_ids, attention_mask=attention_mask).logits\n",
        "        preds = logits.argmax(dim=-1).squeeze().cpu().tolist()\n",
        "\n",
        "    restored = \"\"\n",
        "    for id, p, (start, end) in zip(\n",
        "        input_ids.squeeze().cpu().tolist(), preds, encoding.offset_mapping[0]\n",
        "    ):\n",
        "        tok = tokenizer.decode([id])\n",
        "        restored += tok\n",
        "        if p == 1:\n",
        "            restored += \" \"\n",
        "    return restored\n",
        "\n",
        "\n",
        "example = \"этопроверкакакбудетработатьмодель\"\n",
        "print(\"INPUT:\", example)\n",
        "print(\"OUTPUT:\", restore_spaces(example))"
      ]
    },
    {
      "cell_type": "code",
      "execution_count": null,
      "metadata": {
        "colab": {
          "base_uri": "https://localhost:8080/"
        },
        "id": "9-lKdBDlCDV5",
        "outputId": "b749d8d4-bd94-4a49-b3c8-da3042160bf0"
      },
      "outputs": [
        {
          "name": "stdout",
          "output_type": "stream",
          "text": [
            "INPUT: ищусобакунемецкуюовчарку\n",
            "OUTPUT: ищу собаку немецкую овчарку\n"
          ]
        }
      ],
      "source": [
        "example = \"ищусобакунемецкуюовчарку\"\n",
        "print(\"INPUT:\", example)\n",
        "print(\"OUTPUT:\", restore_spaces(example))"
      ]
    },
    {
      "cell_type": "markdown",
      "metadata": {
        "id": "rYTqjumnGlJB"
      },
      "source": [
        "### Результат на датасете авито"
      ]
    },
    {
      "cell_type": "code",
      "execution_count": null,
      "metadata": {
        "id": "6_uGz5OUCUiA"
      },
      "outputs": [],
      "source": [
        "file_path = \"dataset_1937770_3.txt\"\n",
        "\n",
        "data = []\n",
        "\n",
        "with open(file_path, \"r\", encoding=\"utf-8\") as f:\n",
        "    header = next(f)\n",
        "    for line in f:\n",
        "        line = line.strip()\n",
        "        if not line:\n",
        "            continue\n",
        "        id_part, text_part = line.split(\",\", 1)\n",
        "        data.append((int(id_part), text_part))\n",
        "\n",
        "\n",
        "avito_data = pd.DataFrame(data, columns=[\"id\", \"text\"])\n"
      ]
    },
    {
      "cell_type": "code",
      "execution_count": null,
      "metadata": {
        "colab": {
          "base_uri": "https://localhost:8080/",
          "height": 423
        },
        "id": "JRA7GT__EcO5",
        "outputId": "62f713f9-78bd-4719-bde8-bda154d62d44"
      },
      "outputs": [
        {
          "data": {
            "text/html": [
              "<div>\n",
              "<style scoped>\n",
              "    .dataframe tbody tr th:only-of-type {\n",
              "        vertical-align: middle;\n",
              "    }\n",
              "\n",
              "    .dataframe tbody tr th {\n",
              "        vertical-align: top;\n",
              "    }\n",
              "\n",
              "    .dataframe thead th {\n",
              "        text-align: right;\n",
              "    }\n",
              "</style>\n",
              "<table border=\"1\" class=\"dataframe\">\n",
              "  <thead>\n",
              "    <tr style=\"text-align: right;\">\n",
              "      <th></th>\n",
              "      <th>id</th>\n",
              "      <th>text</th>\n",
              "    </tr>\n",
              "  </thead>\n",
              "  <tbody>\n",
              "    <tr>\n",
              "      <th>0</th>\n",
              "      <td>0</td>\n",
              "      <td>куплюайфон14про</td>\n",
              "    </tr>\n",
              "    <tr>\n",
              "      <th>1</th>\n",
              "      <td>1</td>\n",
              "      <td>ищудомвПодмосковье</td>\n",
              "    </tr>\n",
              "    <tr>\n",
              "      <th>2</th>\n",
              "      <td>2</td>\n",
              "      <td>сдаюквартирусмебельюитехникой</td>\n",
              "    </tr>\n",
              "    <tr>\n",
              "      <th>3</th>\n",
              "      <td>3</td>\n",
              "      <td>новыйдивандоставканедорого</td>\n",
              "    </tr>\n",
              "    <tr>\n",
              "      <th>4</th>\n",
              "      <td>4</td>\n",
              "      <td>отдамдаромкошку</td>\n",
              "    </tr>\n",
              "    <tr>\n",
              "      <th>...</th>\n",
              "      <td>...</td>\n",
              "      <td>...</td>\n",
              "    </tr>\n",
              "    <tr>\n",
              "      <th>1000</th>\n",
              "      <td>1000</td>\n",
              "      <td>Янеусну.</td>\n",
              "    </tr>\n",
              "    <tr>\n",
              "      <th>1001</th>\n",
              "      <td>1001</td>\n",
              "      <td>Весна-яуженегреюпио.</td>\n",
              "    </tr>\n",
              "    <tr>\n",
              "      <th>1002</th>\n",
              "      <td>1002</td>\n",
              "      <td>Весна-скоровырастеттрава.</td>\n",
              "    </tr>\n",
              "    <tr>\n",
              "      <th>1003</th>\n",
              "      <td>1003</td>\n",
              "      <td>Весна-выпосмотрите,каккрасиво.</td>\n",
              "    </tr>\n",
              "    <tr>\n",
              "      <th>1004</th>\n",
              "      <td>1004</td>\n",
              "      <td>Весна-гдемояголова?</td>\n",
              "    </tr>\n",
              "  </tbody>\n",
              "</table>\n",
              "<p>1005 rows × 2 columns</p>\n",
              "</div>"
            ],
            "text/plain": [
              "        id                            text\n",
              "0        0                 куплюайфон14про\n",
              "1        1              ищудомвПодмосковье\n",
              "2        2   сдаюквартирусмебельюитехникой\n",
              "3        3      новыйдивандоставканедорого\n",
              "4        4                 отдамдаромкошку\n",
              "...    ...                             ...\n",
              "1000  1000                        Янеусну.\n",
              "1001  1001            Весна-яуженегреюпио.\n",
              "1002  1002       Весна-скоровырастеттрава.\n",
              "1003  1003  Весна-выпосмотрите,каккрасиво.\n",
              "1004  1004             Весна-гдемояголова?\n",
              "\n",
              "[1005 rows x 2 columns]"
            ]
          },
          "execution_count": 53,
          "metadata": {},
          "output_type": "execute_result"
        }
      ],
      "source": [
        "avito_data"
      ]
    },
    {
      "cell_type": "code",
      "execution_count": null,
      "metadata": {
        "id": "qfIXB8Y3GkkK"
      },
      "outputs": [],
      "source": [
        "avito_data[\"result\"] = avito_data[\"text\"].apply(restore_spaces)"
      ]
    },
    {
      "cell_type": "code",
      "execution_count": null,
      "metadata": {
        "colab": {
          "base_uri": "https://localhost:8080/",
          "height": 423
        },
        "id": "-KBXqMukak2i",
        "outputId": "de2a4063-a682-49cd-f7cb-133cc940f2b5"
      },
      "outputs": [
        {
          "data": {
            "text/html": [
              "<div>\n",
              "<style scoped>\n",
              "    .dataframe tbody tr th:only-of-type {\n",
              "        vertical-align: middle;\n",
              "    }\n",
              "\n",
              "    .dataframe tbody tr th {\n",
              "        vertical-align: top;\n",
              "    }\n",
              "\n",
              "    .dataframe thead th {\n",
              "        text-align: right;\n",
              "    }\n",
              "</style>\n",
              "<table border=\"1\" class=\"dataframe\">\n",
              "  <thead>\n",
              "    <tr style=\"text-align: right;\">\n",
              "      <th></th>\n",
              "      <th>id</th>\n",
              "      <th>text</th>\n",
              "      <th>result</th>\n",
              "    </tr>\n",
              "  </thead>\n",
              "  <tbody>\n",
              "    <tr>\n",
              "      <th>0</th>\n",
              "      <td>0</td>\n",
              "      <td>куплюайфон14про</td>\n",
              "      <td>куплю айфон 14 про</td>\n",
              "    </tr>\n",
              "    <tr>\n",
              "      <th>1</th>\n",
              "      <td>1</td>\n",
              "      <td>ищудомвПодмосковье</td>\n",
              "      <td>ищу дом в Подмосковье</td>\n",
              "    </tr>\n",
              "    <tr>\n",
              "      <th>2</th>\n",
              "      <td>2</td>\n",
              "      <td>сдаюквартирусмебельюитехникой</td>\n",
              "      <td>сдаю квартиру смебелью и техникой</td>\n",
              "    </tr>\n",
              "    <tr>\n",
              "      <th>3</th>\n",
              "      <td>3</td>\n",
              "      <td>новыйдивандоставканедорого</td>\n",
              "      <td>новый диван доставка не дорого</td>\n",
              "    </tr>\n",
              "    <tr>\n",
              "      <th>4</th>\n",
              "      <td>4</td>\n",
              "      <td>отдамдаромкошку</td>\n",
              "      <td>отдам даром кошку</td>\n",
              "    </tr>\n",
              "    <tr>\n",
              "      <th>...</th>\n",
              "      <td>...</td>\n",
              "      <td>...</td>\n",
              "      <td>...</td>\n",
              "    </tr>\n",
              "    <tr>\n",
              "      <th>1000</th>\n",
              "      <td>1000</td>\n",
              "      <td>Янеусну.</td>\n",
              "      <td>Я не у сну.</td>\n",
              "    </tr>\n",
              "    <tr>\n",
              "      <th>1001</th>\n",
              "      <td>1001</td>\n",
              "      <td>Весна-яуженегреюпио.</td>\n",
              "      <td>Весна - я ужене грею пио.</td>\n",
              "    </tr>\n",
              "    <tr>\n",
              "      <th>1002</th>\n",
              "      <td>1002</td>\n",
              "      <td>Весна-скоровырастеттрава.</td>\n",
              "      <td>Весна - скоро вырастет трава.</td>\n",
              "    </tr>\n",
              "    <tr>\n",
              "      <th>1003</th>\n",
              "      <td>1003</td>\n",
              "      <td>Весна-выпосмотрите,каккрасиво.</td>\n",
              "      <td>Весна - вы посмотрите, как красиво.</td>\n",
              "    </tr>\n",
              "    <tr>\n",
              "      <th>1004</th>\n",
              "      <td>1004</td>\n",
              "      <td>Весна-гдемояголова?</td>\n",
              "      <td>Весна - гдемоя голова?</td>\n",
              "    </tr>\n",
              "  </tbody>\n",
              "</table>\n",
              "<p>1005 rows × 3 columns</p>\n",
              "</div>"
            ],
            "text/plain": [
              "        id                            text  \\\n",
              "0        0                 куплюайфон14про   \n",
              "1        1              ищудомвПодмосковье   \n",
              "2        2   сдаюквартирусмебельюитехникой   \n",
              "3        3      новыйдивандоставканедорого   \n",
              "4        4                 отдамдаромкошку   \n",
              "...    ...                             ...   \n",
              "1000  1000                        Янеусну.   \n",
              "1001  1001            Весна-яуженегреюпио.   \n",
              "1002  1002       Весна-скоровырастеттрава.   \n",
              "1003  1003  Весна-выпосмотрите,каккрасиво.   \n",
              "1004  1004             Весна-гдемояголова?   \n",
              "\n",
              "                                   result  \n",
              "0                      куплю айфон 14 про  \n",
              "1                   ищу дом в Подмосковье  \n",
              "2       сдаю квартиру смебелью и техникой  \n",
              "3          новый диван доставка не дорого  \n",
              "4                       отдам даром кошку  \n",
              "...                                   ...  \n",
              "1000                          Я не у сну.  \n",
              "1001            Весна - я ужене грею пио.  \n",
              "1002        Весна - скоро вырастет трава.  \n",
              "1003  Весна - вы посмотрите, как красиво.  \n",
              "1004               Весна - гдемоя голова?  \n",
              "\n",
              "[1005 rows x 3 columns]"
            ]
          },
          "execution_count": 55,
          "metadata": {},
          "output_type": "execute_result"
        }
      ],
      "source": [
        "avito_data"
      ]
    },
    {
      "cell_type": "code",
      "execution_count": null,
      "metadata": {
        "id": "hwGKaST91B8q",
        "outputId": "9faa27a9-263a-4599-e22a-cd6380139565"
      },
      "outputs": [
        {
          "data": {
            "text/html": [
              "<div>\n",
              "<style scoped>\n",
              "    .dataframe tbody tr th:only-of-type {\n",
              "        vertical-align: middle;\n",
              "    }\n",
              "\n",
              "    .dataframe tbody tr th {\n",
              "        vertical-align: top;\n",
              "    }\n",
              "\n",
              "    .dataframe thead th {\n",
              "        text-align: right;\n",
              "    }\n",
              "</style>\n",
              "<table border=\"1\" class=\"dataframe\">\n",
              "  <thead>\n",
              "    <tr style=\"text-align: right;\">\n",
              "      <th></th>\n",
              "      <th>id</th>\n",
              "      <th>text</th>\n",
              "      <th>result</th>\n",
              "    </tr>\n",
              "  </thead>\n",
              "  <tbody>\n",
              "    <tr>\n",
              "      <th>0</th>\n",
              "      <td>0</td>\n",
              "      <td>куплюайфон14про</td>\n",
              "      <td>куплю айфон 14 про</td>\n",
              "    </tr>\n",
              "    <tr>\n",
              "      <th>1</th>\n",
              "      <td>1</td>\n",
              "      <td>ищудомвПодмосковье</td>\n",
              "      <td>ищу дом в Подмосковье</td>\n",
              "    </tr>\n",
              "    <tr>\n",
              "      <th>2</th>\n",
              "      <td>2</td>\n",
              "      <td>сдаюквартирусмебельюитехникой</td>\n",
              "      <td>сдаю квартиру смебелью и техникой</td>\n",
              "    </tr>\n",
              "    <tr>\n",
              "      <th>3</th>\n",
              "      <td>3</td>\n",
              "      <td>новыйдивандоставканедорого</td>\n",
              "      <td>новый диван доставка не дорого</td>\n",
              "    </tr>\n",
              "    <tr>\n",
              "      <th>4</th>\n",
              "      <td>4</td>\n",
              "      <td>отдамдаромкошку</td>\n",
              "      <td>отдам даром кошку</td>\n",
              "    </tr>\n",
              "    <tr>\n",
              "      <th>5</th>\n",
              "      <td>5</td>\n",
              "      <td>работавМосквеудаленно</td>\n",
              "      <td>работа в Москве удаленно</td>\n",
              "    </tr>\n",
              "    <tr>\n",
              "      <th>6</th>\n",
              "      <td>6</td>\n",
              "      <td>куплютелевизорPhilips</td>\n",
              "      <td>куплю телевизор Philips</td>\n",
              "    </tr>\n",
              "    <tr>\n",
              "      <th>7</th>\n",
              "      <td>7</td>\n",
              "      <td>ищугрузчиковдляпереезда</td>\n",
              "      <td>ищу грузчиков для переезда</td>\n",
              "    </tr>\n",
              "    <tr>\n",
              "      <th>8</th>\n",
              "      <td>8</td>\n",
              "      <td>ремонтквартирподключ</td>\n",
              "      <td>ремонт квартир под ключ</td>\n",
              "    </tr>\n",
              "    <tr>\n",
              "      <th>9</th>\n",
              "      <td>9</td>\n",
              "      <td>куплюноутбукHP</td>\n",
              "      <td>куплю ноутбук HP</td>\n",
              "    </tr>\n",
              "    <tr>\n",
              "      <th>10</th>\n",
              "      <td>10</td>\n",
              "      <td>ищуквартирууметро</td>\n",
              "      <td>ищу квартируу метро</td>\n",
              "    </tr>\n",
              "    <tr>\n",
              "      <th>11</th>\n",
              "      <td>11</td>\n",
              "      <td>новаямикроволновкаSamsung</td>\n",
              "      <td>новая микроволновка Samsung</td>\n",
              "    </tr>\n",
              "    <tr>\n",
              "      <th>12</th>\n",
              "      <td>12</td>\n",
              "      <td>срочнопродамвелосипед</td>\n",
              "      <td>срочно продам велосипед</td>\n",
              "    </tr>\n",
              "    <tr>\n",
              "      <th>13</th>\n",
              "      <td>13</td>\n",
              "      <td>куплюгитаруFender</td>\n",
              "      <td>куплю гитару Fender</td>\n",
              "    </tr>\n",
              "    <tr>\n",
              "      <th>14</th>\n",
              "      <td>14</td>\n",
              "      <td>ищурепетиторапобиологии</td>\n",
              "      <td>ищу репетитора по биологии</td>\n",
              "    </tr>\n",
              "    <tr>\n",
              "      <th>15</th>\n",
              "      <td>15</td>\n",
              "      <td>сдаюгаражнадлительныйсрок</td>\n",
              "      <td>сдаю гаражна длительный срок</td>\n",
              "    </tr>\n",
              "    <tr>\n",
              "      <th>16</th>\n",
              "      <td>16</td>\n",
              "      <td>куплюдиванбу</td>\n",
              "      <td>куплюди ван бу</td>\n",
              "    </tr>\n",
              "    <tr>\n",
              "      <th>17</th>\n",
              "      <td>17</td>\n",
              "      <td>ищумастерапоремонтухолодильников</td>\n",
              "      <td>и щу мастера по ремонту холодильников</td>\n",
              "    </tr>\n",
              "    <tr>\n",
              "      <th>18</th>\n",
              "      <td>18</td>\n",
              "      <td>новыйшкафдоставкасегодня</td>\n",
              "      <td>новый шкаф доставка сегодня</td>\n",
              "    </tr>\n",
              "    <tr>\n",
              "      <th>19</th>\n",
              "      <td>19</td>\n",
              "      <td>куплюXboxOne</td>\n",
              "      <td>куплю Xbox One</td>\n",
              "    </tr>\n",
              "  </tbody>\n",
              "</table>\n",
              "</div>"
            ],
            "text/plain": [
              "    id                              text  \\\n",
              "0    0                   куплюайфон14про   \n",
              "1    1                ищудомвПодмосковье   \n",
              "2    2     сдаюквартирусмебельюитехникой   \n",
              "3    3        новыйдивандоставканедорого   \n",
              "4    4                   отдамдаромкошку   \n",
              "5    5             работавМосквеудаленно   \n",
              "6    6             куплютелевизорPhilips   \n",
              "7    7           ищугрузчиковдляпереезда   \n",
              "8    8              ремонтквартирподключ   \n",
              "9    9                    куплюноутбукHP   \n",
              "10  10                 ищуквартирууметро   \n",
              "11  11         новаямикроволновкаSamsung   \n",
              "12  12             срочнопродамвелосипед   \n",
              "13  13                 куплюгитаруFender   \n",
              "14  14           ищурепетиторапобиологии   \n",
              "15  15         сдаюгаражнадлительныйсрок   \n",
              "16  16                      куплюдиванбу   \n",
              "17  17  ищумастерапоремонтухолодильников   \n",
              "18  18          новыйшкафдоставкасегодня   \n",
              "19  19                      куплюXboxOne   \n",
              "\n",
              "                                   result  \n",
              "0                      куплю айфон 14 про  \n",
              "1                   ищу дом в Подмосковье  \n",
              "2       сдаю квартиру смебелью и техникой  \n",
              "3          новый диван доставка не дорого  \n",
              "4                       отдам даром кошку  \n",
              "5                работа в Москве удаленно  \n",
              "6                 куплю телевизор Philips  \n",
              "7              ищу грузчиков для переезда  \n",
              "8                 ремонт квартир под ключ  \n",
              "9                        куплю ноутбук HP  \n",
              "10                    ищу квартируу метро  \n",
              "11            новая микроволновка Samsung  \n",
              "12                срочно продам велосипед  \n",
              "13                    куплю гитару Fender  \n",
              "14             ищу репетитора по биологии  \n",
              "15           сдаю гаражна длительный срок  \n",
              "16                         куплюди ван бу  \n",
              "17  и щу мастера по ремонту холодильников  \n",
              "18            новый шкаф доставка сегодня  \n",
              "19                         куплю Xbox One  "
            ]
          },
          "execution_count": 56,
          "metadata": {},
          "output_type": "execute_result"
        }
      ],
      "source": [
        "avito_data[:20]"
      ]
    },
    {
      "cell_type": "markdown",
      "metadata": {
        "id": "8kiZkB3Ko9Rs"
      },
      "source": [
        "Функция для получения индекса, куда вставить пробел"
      ]
    },
    {
      "cell_type": "code",
      "execution_count": null,
      "metadata": {
        "id": "jq9QCaE3IIiZ"
      },
      "outputs": [],
      "source": [
        "def get_index_space(text):\n",
        "    i = 0\n",
        "    indexes = []\n",
        "    while i < len(text):\n",
        "        if text[i] == \" \":\n",
        "            indexes.append(i - len(indexes))\n",
        "            i += 1\n",
        "        i += 1\n",
        "\n",
        "    return indexes\n"
      ]
    },
    {
      "cell_type": "code",
      "execution_count": null,
      "metadata": {
        "id": "_ylOPsRid0X6"
      },
      "outputs": [],
      "source": [
        "avito_data[\"predicted_positions\"] = avito_data.result.apply(get_index_space)"
      ]
    },
    {
      "cell_type": "code",
      "execution_count": null,
      "metadata": {
        "colab": {
          "base_uri": "https://localhost:8080/",
          "height": 423
        },
        "id": "rr00goCyeKv3",
        "outputId": "8ad955ca-af76-4e26-999e-809e9a8d0a30"
      },
      "outputs": [
        {
          "data": {
            "text/html": [
              "<div>\n",
              "<style scoped>\n",
              "    .dataframe tbody tr th:only-of-type {\n",
              "        vertical-align: middle;\n",
              "    }\n",
              "\n",
              "    .dataframe tbody tr th {\n",
              "        vertical-align: top;\n",
              "    }\n",
              "\n",
              "    .dataframe thead th {\n",
              "        text-align: right;\n",
              "    }\n",
              "</style>\n",
              "<table border=\"1\" class=\"dataframe\">\n",
              "  <thead>\n",
              "    <tr style=\"text-align: right;\">\n",
              "      <th></th>\n",
              "      <th>id</th>\n",
              "      <th>text</th>\n",
              "      <th>result</th>\n",
              "      <th>predicted_positions</th>\n",
              "    </tr>\n",
              "  </thead>\n",
              "  <tbody>\n",
              "    <tr>\n",
              "      <th>0</th>\n",
              "      <td>0</td>\n",
              "      <td>куплюайфон14про</td>\n",
              "      <td>куплю айфон 14 про</td>\n",
              "      <td>[5, 10, 12]</td>\n",
              "    </tr>\n",
              "    <tr>\n",
              "      <th>1</th>\n",
              "      <td>1</td>\n",
              "      <td>ищудомвПодмосковье</td>\n",
              "      <td>ищу дом в Подмосковье</td>\n",
              "      <td>[3, 6, 7]</td>\n",
              "    </tr>\n",
              "    <tr>\n",
              "      <th>2</th>\n",
              "      <td>2</td>\n",
              "      <td>сдаюквартирусмебельюитехникой</td>\n",
              "      <td>сдаю квартиру смебелью и техникой</td>\n",
              "      <td>[4, 12, 20, 21]</td>\n",
              "    </tr>\n",
              "    <tr>\n",
              "      <th>3</th>\n",
              "      <td>3</td>\n",
              "      <td>новыйдивандоставканедорого</td>\n",
              "      <td>новый диван доставка не дорого</td>\n",
              "      <td>[5, 10, 18, 20]</td>\n",
              "    </tr>\n",
              "    <tr>\n",
              "      <th>4</th>\n",
              "      <td>4</td>\n",
              "      <td>отдамдаромкошку</td>\n",
              "      <td>отдам даром кошку</td>\n",
              "      <td>[5, 10]</td>\n",
              "    </tr>\n",
              "    <tr>\n",
              "      <th>...</th>\n",
              "      <td>...</td>\n",
              "      <td>...</td>\n",
              "      <td>...</td>\n",
              "      <td>...</td>\n",
              "    </tr>\n",
              "    <tr>\n",
              "      <th>1000</th>\n",
              "      <td>1000</td>\n",
              "      <td>Янеусну.</td>\n",
              "      <td>Я не у сну.</td>\n",
              "      <td>[1, 3, 4]</td>\n",
              "    </tr>\n",
              "    <tr>\n",
              "      <th>1001</th>\n",
              "      <td>1001</td>\n",
              "      <td>Весна-яуженегреюпио.</td>\n",
              "      <td>Весна - я ужене грею пио.</td>\n",
              "      <td>[5, 6, 7, 12, 16]</td>\n",
              "    </tr>\n",
              "    <tr>\n",
              "      <th>1002</th>\n",
              "      <td>1002</td>\n",
              "      <td>Весна-скоровырастеттрава.</td>\n",
              "      <td>Весна - скоро вырастет трава.</td>\n",
              "      <td>[5, 6, 11, 19]</td>\n",
              "    </tr>\n",
              "    <tr>\n",
              "      <th>1003</th>\n",
              "      <td>1003</td>\n",
              "      <td>Весна-выпосмотрите,каккрасиво.</td>\n",
              "      <td>Весна - вы посмотрите, как красиво.</td>\n",
              "      <td>[5, 6, 8, 19, 22]</td>\n",
              "    </tr>\n",
              "    <tr>\n",
              "      <th>1004</th>\n",
              "      <td>1004</td>\n",
              "      <td>Весна-гдемояголова?</td>\n",
              "      <td>Весна - гдемоя голова?</td>\n",
              "      <td>[5, 6, 12]</td>\n",
              "    </tr>\n",
              "  </tbody>\n",
              "</table>\n",
              "<p>1005 rows × 4 columns</p>\n",
              "</div>"
            ],
            "text/plain": [
              "        id                            text  \\\n",
              "0        0                 куплюайфон14про   \n",
              "1        1              ищудомвПодмосковье   \n",
              "2        2   сдаюквартирусмебельюитехникой   \n",
              "3        3      новыйдивандоставканедорого   \n",
              "4        4                 отдамдаромкошку   \n",
              "...    ...                             ...   \n",
              "1000  1000                        Янеусну.   \n",
              "1001  1001            Весна-яуженегреюпио.   \n",
              "1002  1002       Весна-скоровырастеттрава.   \n",
              "1003  1003  Весна-выпосмотрите,каккрасиво.   \n",
              "1004  1004             Весна-гдемояголова?   \n",
              "\n",
              "                                   result predicted_positions  \n",
              "0                      куплю айфон 14 про         [5, 10, 12]  \n",
              "1                   ищу дом в Подмосковье           [3, 6, 7]  \n",
              "2       сдаю квартиру смебелью и техникой     [4, 12, 20, 21]  \n",
              "3          новый диван доставка не дорого     [5, 10, 18, 20]  \n",
              "4                       отдам даром кошку             [5, 10]  \n",
              "...                                   ...                 ...  \n",
              "1000                          Я не у сну.           [1, 3, 4]  \n",
              "1001            Весна - я ужене грею пио.   [5, 6, 7, 12, 16]  \n",
              "1002        Весна - скоро вырастет трава.      [5, 6, 11, 19]  \n",
              "1003  Весна - вы посмотрите, как красиво.   [5, 6, 8, 19, 22]  \n",
              "1004               Весна - гдемоя голова?          [5, 6, 12]  \n",
              "\n",
              "[1005 rows x 4 columns]"
            ]
          },
          "execution_count": 59,
          "metadata": {},
          "output_type": "execute_result"
        }
      ],
      "source": [
        "avito_data"
      ]
    },
    {
      "cell_type": "markdown",
      "metadata": {
        "id": "l2VF5K4w4eRl"
      },
      "source": [
        "# Формирование submission файла\n"
      ]
    },
    {
      "cell_type": "code",
      "execution_count": null,
      "metadata": {
        "id": "OmKP4vB_ea_G"
      },
      "outputs": [],
      "source": [
        "submission = avito_data[[\"id\", \"predicted_positions\"]]\n",
        "submission.to_csv(\"submission.csv\", index=False)"
      ]
    },
    {
      "cell_type": "code",
      "execution_count": null,
      "metadata": {
        "colab": {
          "base_uri": "https://localhost:8080/",
          "height": 423
        },
        "id": "K8W5Xd1GfEKt",
        "outputId": "1c2c3338-f7c4-409e-960e-2d6097861a91"
      },
      "outputs": [
        {
          "data": {
            "text/html": [
              "<div>\n",
              "<style scoped>\n",
              "    .dataframe tbody tr th:only-of-type {\n",
              "        vertical-align: middle;\n",
              "    }\n",
              "\n",
              "    .dataframe tbody tr th {\n",
              "        vertical-align: top;\n",
              "    }\n",
              "\n",
              "    .dataframe thead th {\n",
              "        text-align: right;\n",
              "    }\n",
              "</style>\n",
              "<table border=\"1\" class=\"dataframe\">\n",
              "  <thead>\n",
              "    <tr style=\"text-align: right;\">\n",
              "      <th></th>\n",
              "      <th>id</th>\n",
              "      <th>predicted_positions</th>\n",
              "    </tr>\n",
              "  </thead>\n",
              "  <tbody>\n",
              "    <tr>\n",
              "      <th>0</th>\n",
              "      <td>0</td>\n",
              "      <td>[5, 10, 12]</td>\n",
              "    </tr>\n",
              "    <tr>\n",
              "      <th>1</th>\n",
              "      <td>1</td>\n",
              "      <td>[3, 6, 7]</td>\n",
              "    </tr>\n",
              "    <tr>\n",
              "      <th>2</th>\n",
              "      <td>2</td>\n",
              "      <td>[4, 12, 20, 21]</td>\n",
              "    </tr>\n",
              "    <tr>\n",
              "      <th>3</th>\n",
              "      <td>3</td>\n",
              "      <td>[5, 10, 18]</td>\n",
              "    </tr>\n",
              "    <tr>\n",
              "      <th>4</th>\n",
              "      <td>4</td>\n",
              "      <td>[5, 10]</td>\n",
              "    </tr>\n",
              "    <tr>\n",
              "      <th>...</th>\n",
              "      <td>...</td>\n",
              "      <td>...</td>\n",
              "    </tr>\n",
              "    <tr>\n",
              "      <th>1000</th>\n",
              "      <td>1000</td>\n",
              "      <td>[1, 3, 4, 8]</td>\n",
              "    </tr>\n",
              "    <tr>\n",
              "      <th>1001</th>\n",
              "      <td>1001</td>\n",
              "      <td>[7, 12, 16]</td>\n",
              "    </tr>\n",
              "    <tr>\n",
              "      <th>1002</th>\n",
              "      <td>1002</td>\n",
              "      <td>[5, 6, 11, 19, 25]</td>\n",
              "    </tr>\n",
              "    <tr>\n",
              "      <th>1003</th>\n",
              "      <td>1003</td>\n",
              "      <td>[5, 6, 8, 19, 22]</td>\n",
              "    </tr>\n",
              "    <tr>\n",
              "      <th>1004</th>\n",
              "      <td>1004</td>\n",
              "      <td>[12]</td>\n",
              "    </tr>\n",
              "  </tbody>\n",
              "</table>\n",
              "<p>1005 rows × 2 columns</p>\n",
              "</div>"
            ],
            "text/plain": [
              "        id predicted_positions\n",
              "0        0         [5, 10, 12]\n",
              "1        1           [3, 6, 7]\n",
              "2        2     [4, 12, 20, 21]\n",
              "3        3         [5, 10, 18]\n",
              "4        4             [5, 10]\n",
              "...    ...                 ...\n",
              "1000  1000        [1, 3, 4, 8]\n",
              "1001  1001         [7, 12, 16]\n",
              "1002  1002  [5, 6, 11, 19, 25]\n",
              "1003  1003   [5, 6, 8, 19, 22]\n",
              "1004  1004                [12]\n",
              "\n",
              "[1005 rows x 2 columns]"
            ]
          },
          "execution_count": 43,
          "metadata": {},
          "output_type": "execute_result"
        }
      ],
      "source": [
        "df = pd.read_csv(\"submission.csv\")\n",
        "df"
      ]
    }
  ],
  "metadata": {
    "accelerator": "GPU",
    "colab": {
      "gpuType": "T4",
      "provenance": [],
      "toc_visible": true
    },
    "kernelspec": {
      "display_name": "venv",
      "language": "python",
      "name": "python3"
    },
    "language_info": {
      "codemirror_mode": {
        "name": "ipython",
        "version": 3
      },
      "file_extension": ".py",
      "mimetype": "text/x-python",
      "name": "python",
      "nbconvert_exporter": "python",
      "pygments_lexer": "ipython3",
      "version": "3.13.3"
    }
  },
  "nbformat": 4,
  "nbformat_minor": 0
}
